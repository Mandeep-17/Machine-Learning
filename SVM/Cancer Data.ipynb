{
 "cells": [
  {
   "cell_type": "code",
   "execution_count": 1,
   "id": "c50dc3e7",
   "metadata": {},
   "outputs": [],
   "source": [
    "import pandas as pd\n",
    "import matplotlib.pyplot as plt\n",
    "import numpy as np\n",
    "import seaborn as sns"
   ]
  },
  {
   "cell_type": "code",
   "execution_count": 2,
   "id": "7814289b",
   "metadata": {},
   "outputs": [],
   "source": [
    "from sklearn.datasets import load_breast_cancer "
   ]
  },
  {
   "cell_type": "code",
   "execution_count": 3,
   "id": "d10aa70b",
   "metadata": {},
   "outputs": [],
   "source": [
    "data = load_breast_cancer()"
   ]
  },
  {
   "cell_type": "code",
   "execution_count": 4,
   "id": "658c5081",
   "metadata": {},
   "outputs": [
    {
     "data": {
      "text/plain": [
       "dict_keys(['data', 'target', 'frame', 'target_names', 'DESCR', 'feature_names', 'filename', 'data_module'])"
      ]
     },
     "execution_count": 4,
     "metadata": {},
     "output_type": "execute_result"
    }
   ],
   "source": [
    "data.keys()"
   ]
  },
  {
   "cell_type": "code",
   "execution_count": 5,
   "id": "d1660bb9",
   "metadata": {},
   "outputs": [],
   "source": [
    "cancer_data = pd.DataFrame(data['data'],columns=data['feature_names'])"
   ]
  },
  {
   "cell_type": "code",
   "execution_count": 6,
   "id": "b89a4406",
   "metadata": {},
   "outputs": [
    {
     "data": {
      "text/html": [
       "<div>\n",
       "<style scoped>\n",
       "    .dataframe tbody tr th:only-of-type {\n",
       "        vertical-align: middle;\n",
       "    }\n",
       "\n",
       "    .dataframe tbody tr th {\n",
       "        vertical-align: top;\n",
       "    }\n",
       "\n",
       "    .dataframe thead th {\n",
       "        text-align: right;\n",
       "    }\n",
       "</style>\n",
       "<table border=\"1\" class=\"dataframe\">\n",
       "  <thead>\n",
       "    <tr style=\"text-align: right;\">\n",
       "      <th></th>\n",
       "      <th>mean radius</th>\n",
       "      <th>mean texture</th>\n",
       "      <th>mean perimeter</th>\n",
       "      <th>mean area</th>\n",
       "      <th>mean smoothness</th>\n",
       "      <th>mean compactness</th>\n",
       "      <th>mean concavity</th>\n",
       "      <th>mean concave points</th>\n",
       "      <th>mean symmetry</th>\n",
       "      <th>mean fractal dimension</th>\n",
       "      <th>...</th>\n",
       "      <th>worst radius</th>\n",
       "      <th>worst texture</th>\n",
       "      <th>worst perimeter</th>\n",
       "      <th>worst area</th>\n",
       "      <th>worst smoothness</th>\n",
       "      <th>worst compactness</th>\n",
       "      <th>worst concavity</th>\n",
       "      <th>worst concave points</th>\n",
       "      <th>worst symmetry</th>\n",
       "      <th>worst fractal dimension</th>\n",
       "    </tr>\n",
       "  </thead>\n",
       "  <tbody>\n",
       "    <tr>\n",
       "      <th>0</th>\n",
       "      <td>17.99</td>\n",
       "      <td>10.38</td>\n",
       "      <td>122.80</td>\n",
       "      <td>1001.0</td>\n",
       "      <td>0.11840</td>\n",
       "      <td>0.27760</td>\n",
       "      <td>0.3001</td>\n",
       "      <td>0.14710</td>\n",
       "      <td>0.2419</td>\n",
       "      <td>0.07871</td>\n",
       "      <td>...</td>\n",
       "      <td>25.38</td>\n",
       "      <td>17.33</td>\n",
       "      <td>184.60</td>\n",
       "      <td>2019.0</td>\n",
       "      <td>0.1622</td>\n",
       "      <td>0.6656</td>\n",
       "      <td>0.7119</td>\n",
       "      <td>0.2654</td>\n",
       "      <td>0.4601</td>\n",
       "      <td>0.11890</td>\n",
       "    </tr>\n",
       "    <tr>\n",
       "      <th>1</th>\n",
       "      <td>20.57</td>\n",
       "      <td>17.77</td>\n",
       "      <td>132.90</td>\n",
       "      <td>1326.0</td>\n",
       "      <td>0.08474</td>\n",
       "      <td>0.07864</td>\n",
       "      <td>0.0869</td>\n",
       "      <td>0.07017</td>\n",
       "      <td>0.1812</td>\n",
       "      <td>0.05667</td>\n",
       "      <td>...</td>\n",
       "      <td>24.99</td>\n",
       "      <td>23.41</td>\n",
       "      <td>158.80</td>\n",
       "      <td>1956.0</td>\n",
       "      <td>0.1238</td>\n",
       "      <td>0.1866</td>\n",
       "      <td>0.2416</td>\n",
       "      <td>0.1860</td>\n",
       "      <td>0.2750</td>\n",
       "      <td>0.08902</td>\n",
       "    </tr>\n",
       "    <tr>\n",
       "      <th>2</th>\n",
       "      <td>19.69</td>\n",
       "      <td>21.25</td>\n",
       "      <td>130.00</td>\n",
       "      <td>1203.0</td>\n",
       "      <td>0.10960</td>\n",
       "      <td>0.15990</td>\n",
       "      <td>0.1974</td>\n",
       "      <td>0.12790</td>\n",
       "      <td>0.2069</td>\n",
       "      <td>0.05999</td>\n",
       "      <td>...</td>\n",
       "      <td>23.57</td>\n",
       "      <td>25.53</td>\n",
       "      <td>152.50</td>\n",
       "      <td>1709.0</td>\n",
       "      <td>0.1444</td>\n",
       "      <td>0.4245</td>\n",
       "      <td>0.4504</td>\n",
       "      <td>0.2430</td>\n",
       "      <td>0.3613</td>\n",
       "      <td>0.08758</td>\n",
       "    </tr>\n",
       "    <tr>\n",
       "      <th>3</th>\n",
       "      <td>11.42</td>\n",
       "      <td>20.38</td>\n",
       "      <td>77.58</td>\n",
       "      <td>386.1</td>\n",
       "      <td>0.14250</td>\n",
       "      <td>0.28390</td>\n",
       "      <td>0.2414</td>\n",
       "      <td>0.10520</td>\n",
       "      <td>0.2597</td>\n",
       "      <td>0.09744</td>\n",
       "      <td>...</td>\n",
       "      <td>14.91</td>\n",
       "      <td>26.50</td>\n",
       "      <td>98.87</td>\n",
       "      <td>567.7</td>\n",
       "      <td>0.2098</td>\n",
       "      <td>0.8663</td>\n",
       "      <td>0.6869</td>\n",
       "      <td>0.2575</td>\n",
       "      <td>0.6638</td>\n",
       "      <td>0.17300</td>\n",
       "    </tr>\n",
       "    <tr>\n",
       "      <th>4</th>\n",
       "      <td>20.29</td>\n",
       "      <td>14.34</td>\n",
       "      <td>135.10</td>\n",
       "      <td>1297.0</td>\n",
       "      <td>0.10030</td>\n",
       "      <td>0.13280</td>\n",
       "      <td>0.1980</td>\n",
       "      <td>0.10430</td>\n",
       "      <td>0.1809</td>\n",
       "      <td>0.05883</td>\n",
       "      <td>...</td>\n",
       "      <td>22.54</td>\n",
       "      <td>16.67</td>\n",
       "      <td>152.20</td>\n",
       "      <td>1575.0</td>\n",
       "      <td>0.1374</td>\n",
       "      <td>0.2050</td>\n",
       "      <td>0.4000</td>\n",
       "      <td>0.1625</td>\n",
       "      <td>0.2364</td>\n",
       "      <td>0.07678</td>\n",
       "    </tr>\n",
       "  </tbody>\n",
       "</table>\n",
       "<p>5 rows × 30 columns</p>\n",
       "</div>"
      ],
      "text/plain": [
       "   mean radius  mean texture  mean perimeter  mean area  mean smoothness  \\\n",
       "0        17.99         10.38          122.80     1001.0          0.11840   \n",
       "1        20.57         17.77          132.90     1326.0          0.08474   \n",
       "2        19.69         21.25          130.00     1203.0          0.10960   \n",
       "3        11.42         20.38           77.58      386.1          0.14250   \n",
       "4        20.29         14.34          135.10     1297.0          0.10030   \n",
       "\n",
       "   mean compactness  mean concavity  mean concave points  mean symmetry  \\\n",
       "0           0.27760          0.3001              0.14710         0.2419   \n",
       "1           0.07864          0.0869              0.07017         0.1812   \n",
       "2           0.15990          0.1974              0.12790         0.2069   \n",
       "3           0.28390          0.2414              0.10520         0.2597   \n",
       "4           0.13280          0.1980              0.10430         0.1809   \n",
       "\n",
       "   mean fractal dimension  ...  worst radius  worst texture  worst perimeter  \\\n",
       "0                 0.07871  ...         25.38          17.33           184.60   \n",
       "1                 0.05667  ...         24.99          23.41           158.80   \n",
       "2                 0.05999  ...         23.57          25.53           152.50   \n",
       "3                 0.09744  ...         14.91          26.50            98.87   \n",
       "4                 0.05883  ...         22.54          16.67           152.20   \n",
       "\n",
       "   worst area  worst smoothness  worst compactness  worst concavity  \\\n",
       "0      2019.0            0.1622             0.6656           0.7119   \n",
       "1      1956.0            0.1238             0.1866           0.2416   \n",
       "2      1709.0            0.1444             0.4245           0.4504   \n",
       "3       567.7            0.2098             0.8663           0.6869   \n",
       "4      1575.0            0.1374             0.2050           0.4000   \n",
       "\n",
       "   worst concave points  worst symmetry  worst fractal dimension  \n",
       "0                0.2654          0.4601                  0.11890  \n",
       "1                0.1860          0.2750                  0.08902  \n",
       "2                0.2430          0.3613                  0.08758  \n",
       "3                0.2575          0.6638                  0.17300  \n",
       "4                0.1625          0.2364                  0.07678  \n",
       "\n",
       "[5 rows x 30 columns]"
      ]
     },
     "execution_count": 6,
     "metadata": {},
     "output_type": "execute_result"
    }
   ],
   "source": [
    "cancer_data.head()"
   ]
  },
  {
   "cell_type": "code",
   "execution_count": 7,
   "id": "3b81e8db",
   "metadata": {},
   "outputs": [
    {
     "name": "stdout",
     "output_type": "stream",
     "text": [
      "<class 'pandas.core.frame.DataFrame'>\n",
      "RangeIndex: 569 entries, 0 to 568\n",
      "Data columns (total 30 columns):\n",
      " #   Column                   Non-Null Count  Dtype  \n",
      "---  ------                   --------------  -----  \n",
      " 0   mean radius              569 non-null    float64\n",
      " 1   mean texture             569 non-null    float64\n",
      " 2   mean perimeter           569 non-null    float64\n",
      " 3   mean area                569 non-null    float64\n",
      " 4   mean smoothness          569 non-null    float64\n",
      " 5   mean compactness         569 non-null    float64\n",
      " 6   mean concavity           569 non-null    float64\n",
      " 7   mean concave points      569 non-null    float64\n",
      " 8   mean symmetry            569 non-null    float64\n",
      " 9   mean fractal dimension   569 non-null    float64\n",
      " 10  radius error             569 non-null    float64\n",
      " 11  texture error            569 non-null    float64\n",
      " 12  perimeter error          569 non-null    float64\n",
      " 13  area error               569 non-null    float64\n",
      " 14  smoothness error         569 non-null    float64\n",
      " 15  compactness error        569 non-null    float64\n",
      " 16  concavity error          569 non-null    float64\n",
      " 17  concave points error     569 non-null    float64\n",
      " 18  symmetry error           569 non-null    float64\n",
      " 19  fractal dimension error  569 non-null    float64\n",
      " 20  worst radius             569 non-null    float64\n",
      " 21  worst texture            569 non-null    float64\n",
      " 22  worst perimeter          569 non-null    float64\n",
      " 23  worst area               569 non-null    float64\n",
      " 24  worst smoothness         569 non-null    float64\n",
      " 25  worst compactness        569 non-null    float64\n",
      " 26  worst concavity          569 non-null    float64\n",
      " 27  worst concave points     569 non-null    float64\n",
      " 28  worst symmetry           569 non-null    float64\n",
      " 29  worst fractal dimension  569 non-null    float64\n",
      "dtypes: float64(30)\n",
      "memory usage: 133.5 KB\n"
     ]
    }
   ],
   "source": [
    "cancer_data.info()"
   ]
  },
  {
   "cell_type": "code",
   "execution_count": 8,
   "id": "0a2bb158",
   "metadata": {},
   "outputs": [
    {
     "data": {
      "text/plain": [
       "mean radius                0\n",
       "mean texture               0\n",
       "mean perimeter             0\n",
       "mean area                  0\n",
       "mean smoothness            0\n",
       "mean compactness           0\n",
       "mean concavity             0\n",
       "mean concave points        0\n",
       "mean symmetry              0\n",
       "mean fractal dimension     0\n",
       "radius error               0\n",
       "texture error              0\n",
       "perimeter error            0\n",
       "area error                 0\n",
       "smoothness error           0\n",
       "compactness error          0\n",
       "concavity error            0\n",
       "concave points error       0\n",
       "symmetry error             0\n",
       "fractal dimension error    0\n",
       "worst radius               0\n",
       "worst texture              0\n",
       "worst perimeter            0\n",
       "worst area                 0\n",
       "worst smoothness           0\n",
       "worst compactness          0\n",
       "worst concavity            0\n",
       "worst concave points       0\n",
       "worst symmetry             0\n",
       "worst fractal dimension    0\n",
       "dtype: int64"
      ]
     },
     "execution_count": 8,
     "metadata": {},
     "output_type": "execute_result"
    }
   ],
   "source": [
    "cancer_data.isnull().sum()"
   ]
  },
  {
   "cell_type": "code",
   "execution_count": 9,
   "id": "653b2ca9",
   "metadata": {},
   "outputs": [],
   "source": [
    "X = cancer_data"
   ]
  },
  {
   "cell_type": "code",
   "execution_count": 10,
   "id": "5490088e",
   "metadata": {},
   "outputs": [],
   "source": [
    "Y = data['target']"
   ]
  },
  {
   "cell_type": "code",
   "execution_count": 11,
   "id": "35b798bb",
   "metadata": {},
   "outputs": [],
   "source": [
    "from sklearn.model_selection import train_test_split\n",
    "\n",
    "X_train,X_test,Y_train,Y_test = train_test_split(X,Y,test_size=0.2,random_state=101)"
   ]
  },
  {
   "cell_type": "code",
   "execution_count": 12,
   "id": "31b1ba11",
   "metadata": {},
   "outputs": [],
   "source": [
    "from sklearn.svm import SVC\n",
    "\n",
    "svc_model = SVC()"
   ]
  },
  {
   "cell_type": "code",
   "execution_count": 13,
   "id": "f2c71f10",
   "metadata": {},
   "outputs": [
    {
     "data": {
      "text/html": [
       "<style>#sk-container-id-1 {color: black;background-color: white;}#sk-container-id-1 pre{padding: 0;}#sk-container-id-1 div.sk-toggleable {background-color: white;}#sk-container-id-1 label.sk-toggleable__label {cursor: pointer;display: block;width: 100%;margin-bottom: 0;padding: 0.3em;box-sizing: border-box;text-align: center;}#sk-container-id-1 label.sk-toggleable__label-arrow:before {content: \"▸\";float: left;margin-right: 0.25em;color: #696969;}#sk-container-id-1 label.sk-toggleable__label-arrow:hover:before {color: black;}#sk-container-id-1 div.sk-estimator:hover label.sk-toggleable__label-arrow:before {color: black;}#sk-container-id-1 div.sk-toggleable__content {max-height: 0;max-width: 0;overflow: hidden;text-align: left;background-color: #f0f8ff;}#sk-container-id-1 div.sk-toggleable__content pre {margin: 0.2em;color: black;border-radius: 0.25em;background-color: #f0f8ff;}#sk-container-id-1 input.sk-toggleable__control:checked~div.sk-toggleable__content {max-height: 200px;max-width: 100%;overflow: auto;}#sk-container-id-1 input.sk-toggleable__control:checked~label.sk-toggleable__label-arrow:before {content: \"▾\";}#sk-container-id-1 div.sk-estimator input.sk-toggleable__control:checked~label.sk-toggleable__label {background-color: #d4ebff;}#sk-container-id-1 div.sk-label input.sk-toggleable__control:checked~label.sk-toggleable__label {background-color: #d4ebff;}#sk-container-id-1 input.sk-hidden--visually {border: 0;clip: rect(1px 1px 1px 1px);clip: rect(1px, 1px, 1px, 1px);height: 1px;margin: -1px;overflow: hidden;padding: 0;position: absolute;width: 1px;}#sk-container-id-1 div.sk-estimator {font-family: monospace;background-color: #f0f8ff;border: 1px dotted black;border-radius: 0.25em;box-sizing: border-box;margin-bottom: 0.5em;}#sk-container-id-1 div.sk-estimator:hover {background-color: #d4ebff;}#sk-container-id-1 div.sk-parallel-item::after {content: \"\";width: 100%;border-bottom: 1px solid gray;flex-grow: 1;}#sk-container-id-1 div.sk-label:hover label.sk-toggleable__label {background-color: #d4ebff;}#sk-container-id-1 div.sk-serial::before {content: \"\";position: absolute;border-left: 1px solid gray;box-sizing: border-box;top: 0;bottom: 0;left: 50%;z-index: 0;}#sk-container-id-1 div.sk-serial {display: flex;flex-direction: column;align-items: center;background-color: white;padding-right: 0.2em;padding-left: 0.2em;position: relative;}#sk-container-id-1 div.sk-item {position: relative;z-index: 1;}#sk-container-id-1 div.sk-parallel {display: flex;align-items: stretch;justify-content: center;background-color: white;position: relative;}#sk-container-id-1 div.sk-item::before, #sk-container-id-1 div.sk-parallel-item::before {content: \"\";position: absolute;border-left: 1px solid gray;box-sizing: border-box;top: 0;bottom: 0;left: 50%;z-index: -1;}#sk-container-id-1 div.sk-parallel-item {display: flex;flex-direction: column;z-index: 1;position: relative;background-color: white;}#sk-container-id-1 div.sk-parallel-item:first-child::after {align-self: flex-end;width: 50%;}#sk-container-id-1 div.sk-parallel-item:last-child::after {align-self: flex-start;width: 50%;}#sk-container-id-1 div.sk-parallel-item:only-child::after {width: 0;}#sk-container-id-1 div.sk-dashed-wrapped {border: 1px dashed gray;margin: 0 0.4em 0.5em 0.4em;box-sizing: border-box;padding-bottom: 0.4em;background-color: white;}#sk-container-id-1 div.sk-label label {font-family: monospace;font-weight: bold;display: inline-block;line-height: 1.2em;}#sk-container-id-1 div.sk-label-container {text-align: center;}#sk-container-id-1 div.sk-container {/* jupyter's `normalize.less` sets `[hidden] { display: none; }` but bootstrap.min.css set `[hidden] { display: none !important; }` so we also need the `!important` here to be able to override the default hidden behavior on the sphinx rendered scikit-learn.org. See: https://github.com/scikit-learn/scikit-learn/issues/21755 */display: inline-block !important;position: relative;}#sk-container-id-1 div.sk-text-repr-fallback {display: none;}</style><div id=\"sk-container-id-1\" class=\"sk-top-container\"><div class=\"sk-text-repr-fallback\"><pre>SVC()</pre><b>In a Jupyter environment, please rerun this cell to show the HTML representation or trust the notebook. <br />On GitHub, the HTML representation is unable to render, please try loading this page with nbviewer.org.</b></div><div class=\"sk-container\" hidden><div class=\"sk-item\"><div class=\"sk-estimator sk-toggleable\"><input class=\"sk-toggleable__control sk-hidden--visually\" id=\"sk-estimator-id-1\" type=\"checkbox\" checked><label for=\"sk-estimator-id-1\" class=\"sk-toggleable__label sk-toggleable__label-arrow\">SVC</label><div class=\"sk-toggleable__content\"><pre>SVC()</pre></div></div></div></div></div>"
      ],
      "text/plain": [
       "SVC()"
      ]
     },
     "execution_count": 13,
     "metadata": {},
     "output_type": "execute_result"
    }
   ],
   "source": [
    "svc_model.fit(X_train,Y_train)"
   ]
  },
  {
   "cell_type": "code",
   "execution_count": 14,
   "id": "36c1f412",
   "metadata": {},
   "outputs": [],
   "source": [
    "prediction = svc_model.predict(X_test)"
   ]
  },
  {
   "cell_type": "code",
   "execution_count": 15,
   "id": "2c6d3c31",
   "metadata": {},
   "outputs": [
    {
     "data": {
      "text/plain": [
       "array([1, 1, 1, 0, 1, 1, 1, 0, 1, 1, 0, 1, 1, 1, 0, 1, 1, 1, 0, 0, 1, 1,\n",
       "       1, 1, 0, 1, 0, 1, 0, 0, 1, 0, 1, 0, 1, 1, 0, 0, 0, 0, 0, 1, 1, 1,\n",
       "       1, 1, 0, 1, 0, 1, 0, 1, 1, 0, 1, 1, 0, 0, 1, 1, 0, 0, 1, 1, 0, 1,\n",
       "       1, 0, 0, 1, 0, 1, 1, 1, 0, 0, 1, 0, 0, 1, 1, 1, 1, 1, 1, 1, 0, 1,\n",
       "       0, 0, 1, 0, 0, 1, 1, 1, 1, 1, 0, 0, 0, 1, 1, 1, 1, 1, 1, 1, 1, 1,\n",
       "       1, 1, 1, 0])"
      ]
     },
     "execution_count": 15,
     "metadata": {},
     "output_type": "execute_result"
    }
   ],
   "source": [
    "Y_test"
   ]
  },
  {
   "cell_type": "code",
   "execution_count": 16,
   "id": "32dfe5d7",
   "metadata": {},
   "outputs": [
    {
     "name": "stdout",
     "output_type": "stream",
     "text": [
      "[[36  0]\n",
      " [ 6 72]]\n"
     ]
    }
   ],
   "source": [
    "from sklearn.metrics import confusion_matrix,classification_report\n",
    "\n",
    "print(confusion_matrix(prediction,Y_test))"
   ]
  },
  {
   "cell_type": "code",
   "execution_count": 17,
   "id": "ef270b3f",
   "metadata": {},
   "outputs": [
    {
     "name": "stdout",
     "output_type": "stream",
     "text": [
      "              precision    recall  f1-score   support\n",
      "\n",
      "           0       0.86      1.00      0.92        36\n",
      "           1       1.00      0.92      0.96        78\n",
      "\n",
      "    accuracy                           0.95       114\n",
      "   macro avg       0.93      0.96      0.94       114\n",
      "weighted avg       0.95      0.95      0.95       114\n",
      "\n"
     ]
    }
   ],
   "source": [
    "print(classification_report(prediction,Y_test))"
   ]
  },
  {
   "cell_type": "markdown",
   "id": "336b2209",
   "metadata": {},
   "source": [
    "# C and Gamma"
   ]
  },
  {
   "cell_type": "code",
   "execution_count": 18,
   "id": "68d19752",
   "metadata": {},
   "outputs": [],
   "source": [
    "params = {\n",
    "    'C' : [0.001,0.01,0.1,1,10,100,1000],\n",
    "    'gamma' :[1,0.1,0.001,0.0001,0.00001,0.000001,0.0000001]\n",
    "    \n",
    "}"
   ]
  },
  {
   "cell_type": "code",
   "execution_count": 19,
   "id": "d918d063",
   "metadata": {},
   "outputs": [],
   "source": [
    "from sklearn.model_selection import GridSearchCV\n",
    "\n",
    "grid_search = GridSearchCV(SVC(),params,verbose=3)"
   ]
  },
  {
   "cell_type": "code",
   "execution_count": 20,
   "id": "6e96b8cb",
   "metadata": {},
   "outputs": [
    {
     "name": "stdout",
     "output_type": "stream",
     "text": [
      "Fitting 5 folds for each of 49 candidates, totalling 245 fits\n",
      "[CV 1/5] END ..................C=0.001, gamma=1;, score=0.626 total time=   0.0s\n",
      "[CV 2/5] END ..................C=0.001, gamma=1;, score=0.626 total time=   0.0s\n",
      "[CV 3/5] END ..................C=0.001, gamma=1;, score=0.626 total time=   0.0s\n",
      "[CV 4/5] END ..................C=0.001, gamma=1;, score=0.626 total time=   0.0s\n",
      "[CV 5/5] END ..................C=0.001, gamma=1;, score=0.626 total time=   0.0s\n",
      "[CV 1/5] END ................C=0.001, gamma=0.1;, score=0.626 total time=   0.0s\n",
      "[CV 2/5] END ................C=0.001, gamma=0.1;, score=0.626 total time=   0.0s\n",
      "[CV 3/5] END ................C=0.001, gamma=0.1;, score=0.626 total time=   0.0s\n",
      "[CV 4/5] END ................C=0.001, gamma=0.1;, score=0.626 total time=   0.0s\n",
      "[CV 5/5] END ................C=0.001, gamma=0.1;, score=0.626 total time=   0.0s\n",
      "[CV 1/5] END ..............C=0.001, gamma=0.001;, score=0.626 total time=   0.0s\n",
      "[CV 2/5] END ..............C=0.001, gamma=0.001;, score=0.626 total time=   0.0s\n",
      "[CV 3/5] END ..............C=0.001, gamma=0.001;, score=0.626 total time=   0.0s\n",
      "[CV 4/5] END ..............C=0.001, gamma=0.001;, score=0.626 total time=   0.0s\n",
      "[CV 5/5] END ..............C=0.001, gamma=0.001;, score=0.626 total time=   0.0s\n",
      "[CV 1/5] END .............C=0.001, gamma=0.0001;, score=0.626 total time=   0.0s\n",
      "[CV 2/5] END .............C=0.001, gamma=0.0001;, score=0.626 total time=   0.0s\n",
      "[CV 3/5] END .............C=0.001, gamma=0.0001;, score=0.626 total time=   0.0s\n",
      "[CV 4/5] END .............C=0.001, gamma=0.0001;, score=0.626 total time=   0.0s\n",
      "[CV 5/5] END .............C=0.001, gamma=0.0001;, score=0.626 total time=   0.0s\n",
      "[CV 1/5] END ..............C=0.001, gamma=1e-05;, score=0.626 total time=   0.0s\n",
      "[CV 2/5] END ..............C=0.001, gamma=1e-05;, score=0.626 total time=   0.0s\n",
      "[CV 3/5] END ..............C=0.001, gamma=1e-05;, score=0.626 total time=   0.0s\n",
      "[CV 4/5] END ..............C=0.001, gamma=1e-05;, score=0.626 total time=   0.0s\n",
      "[CV 5/5] END ..............C=0.001, gamma=1e-05;, score=0.626 total time=   0.0s\n",
      "[CV 1/5] END ..............C=0.001, gamma=1e-06;, score=0.626 total time=   0.0s\n",
      "[CV 2/5] END ..............C=0.001, gamma=1e-06;, score=0.626 total time=   0.0s\n",
      "[CV 3/5] END ..............C=0.001, gamma=1e-06;, score=0.626 total time=   0.0s\n",
      "[CV 4/5] END ..............C=0.001, gamma=1e-06;, score=0.626 total time=   0.0s\n",
      "[CV 5/5] END ..............C=0.001, gamma=1e-06;, score=0.626 total time=   0.0s\n",
      "[CV 1/5] END ..............C=0.001, gamma=1e-07;, score=0.626 total time=   0.0s\n",
      "[CV 2/5] END ..............C=0.001, gamma=1e-07;, score=0.626 total time=   0.0s\n",
      "[CV 3/5] END ..............C=0.001, gamma=1e-07;, score=0.626 total time=   0.0s\n",
      "[CV 4/5] END ..............C=0.001, gamma=1e-07;, score=0.626 total time=   0.0s\n",
      "[CV 5/5] END ..............C=0.001, gamma=1e-07;, score=0.626 total time=   0.0s\n",
      "[CV 1/5] END ...................C=0.01, gamma=1;, score=0.626 total time=   0.0s\n",
      "[CV 2/5] END ...................C=0.01, gamma=1;, score=0.626 total time=   0.0s\n",
      "[CV 3/5] END ...................C=0.01, gamma=1;, score=0.626 total time=   0.0s\n",
      "[CV 4/5] END ...................C=0.01, gamma=1;, score=0.626 total time=   0.0s\n",
      "[CV 5/5] END ...................C=0.01, gamma=1;, score=0.626 total time=   0.0s\n",
      "[CV 1/5] END .................C=0.01, gamma=0.1;, score=0.626 total time=   0.0s\n",
      "[CV 2/5] END .................C=0.01, gamma=0.1;, score=0.626 total time=   0.0s\n",
      "[CV 3/5] END .................C=0.01, gamma=0.1;, score=0.626 total time=   0.0s\n",
      "[CV 4/5] END .................C=0.01, gamma=0.1;, score=0.626 total time=   0.0s\n",
      "[CV 5/5] END .................C=0.01, gamma=0.1;, score=0.626 total time=   0.0s\n",
      "[CV 1/5] END ...............C=0.01, gamma=0.001;, score=0.626 total time=   0.0s\n",
      "[CV 2/5] END ...............C=0.01, gamma=0.001;, score=0.626 total time=   0.0s\n",
      "[CV 3/5] END ...............C=0.01, gamma=0.001;, score=0.626 total time=   0.0s\n",
      "[CV 4/5] END ...............C=0.01, gamma=0.001;, score=0.626 total time=   0.0s\n",
      "[CV 5/5] END ...............C=0.01, gamma=0.001;, score=0.626 total time=   0.0s\n",
      "[CV 1/5] END ..............C=0.01, gamma=0.0001;, score=0.626 total time=   0.0s\n",
      "[CV 2/5] END ..............C=0.01, gamma=0.0001;, score=0.626 total time=   0.0s\n",
      "[CV 3/5] END ..............C=0.01, gamma=0.0001;, score=0.626 total time=   0.0s\n",
      "[CV 4/5] END ..............C=0.01, gamma=0.0001;, score=0.626 total time=   0.0s\n",
      "[CV 5/5] END ..............C=0.01, gamma=0.0001;, score=0.626 total time=   0.0s\n",
      "[CV 1/5] END ...............C=0.01, gamma=1e-05;, score=0.626 total time=   0.0s\n",
      "[CV 2/5] END ...............C=0.01, gamma=1e-05;, score=0.626 total time=   0.0s\n",
      "[CV 3/5] END ...............C=0.01, gamma=1e-05;, score=0.626 total time=   0.0s\n",
      "[CV 4/5] END ...............C=0.01, gamma=1e-05;, score=0.626 total time=   0.0s\n",
      "[CV 5/5] END ...............C=0.01, gamma=1e-05;, score=0.626 total time=   0.0s\n",
      "[CV 1/5] END ...............C=0.01, gamma=1e-06;, score=0.824 total time=   0.0s\n",
      "[CV 2/5] END ...............C=0.01, gamma=1e-06;, score=0.736 total time=   0.0s\n",
      "[CV 3/5] END ...............C=0.01, gamma=1e-06;, score=0.780 total time=   0.0s\n",
      "[CV 4/5] END ...............C=0.01, gamma=1e-06;, score=0.769 total time=   0.0s\n",
      "[CV 5/5] END ...............C=0.01, gamma=1e-06;, score=0.758 total time=   0.0s\n",
      "[CV 1/5] END ...............C=0.01, gamma=1e-07;, score=0.626 total time=   0.0s\n",
      "[CV 2/5] END ...............C=0.01, gamma=1e-07;, score=0.626 total time=   0.0s\n",
      "[CV 3/5] END ...............C=0.01, gamma=1e-07;, score=0.626 total time=   0.0s\n",
      "[CV 4/5] END ...............C=0.01, gamma=1e-07;, score=0.626 total time=   0.0s\n",
      "[CV 5/5] END ...............C=0.01, gamma=1e-07;, score=0.626 total time=   0.0s\n",
      "[CV 1/5] END ....................C=0.1, gamma=1;, score=0.626 total time=   0.0s\n",
      "[CV 2/5] END ....................C=0.1, gamma=1;, score=0.626 total time=   0.0s\n",
      "[CV 3/5] END ....................C=0.1, gamma=1;, score=0.626 total time=   0.0s\n",
      "[CV 4/5] END ....................C=0.1, gamma=1;, score=0.626 total time=   0.0s\n",
      "[CV 5/5] END ....................C=0.1, gamma=1;, score=0.626 total time=   0.0s\n",
      "[CV 1/5] END ..................C=0.1, gamma=0.1;, score=0.626 total time=   0.0s\n",
      "[CV 2/5] END ..................C=0.1, gamma=0.1;, score=0.626 total time=   0.0s\n",
      "[CV 3/5] END ..................C=0.1, gamma=0.1;, score=0.626 total time=   0.0s\n",
      "[CV 4/5] END ..................C=0.1, gamma=0.1;, score=0.626 total time=   0.0s\n",
      "[CV 5/5] END ..................C=0.1, gamma=0.1;, score=0.626 total time=   0.0s\n",
      "[CV 1/5] END ................C=0.1, gamma=0.001;, score=0.626 total time=   0.0s\n",
      "[CV 2/5] END ................C=0.1, gamma=0.001;, score=0.626 total time=   0.0s\n",
      "[CV 3/5] END ................C=0.1, gamma=0.001;, score=0.626 total time=   0.0s\n",
      "[CV 4/5] END ................C=0.1, gamma=0.001;, score=0.626 total time=   0.0s\n",
      "[CV 5/5] END ................C=0.1, gamma=0.001;, score=0.626 total time=   0.0s\n",
      "[CV 1/5] END ...............C=0.1, gamma=0.0001;, score=0.890 total time=   0.0s\n",
      "[CV 2/5] END ...............C=0.1, gamma=0.0001;, score=0.934 total time=   0.0s\n",
      "[CV 3/5] END ...............C=0.1, gamma=0.0001;, score=0.934 total time=   0.0s\n",
      "[CV 4/5] END ...............C=0.1, gamma=0.0001;, score=0.967 total time=   0.0s\n",
      "[CV 5/5] END ...............C=0.1, gamma=0.0001;, score=0.901 total time=   0.0s\n",
      "[CV 1/5] END ................C=0.1, gamma=1e-05;, score=0.879 total time=   0.0s\n",
      "[CV 2/5] END ................C=0.1, gamma=1e-05;, score=0.912 total time=   0.0s\n",
      "[CV 3/5] END ................C=0.1, gamma=1e-05;, score=0.967 total time=   0.0s\n",
      "[CV 4/5] END ................C=0.1, gamma=1e-05;, score=0.945 total time=   0.0s\n",
      "[CV 5/5] END ................C=0.1, gamma=1e-05;, score=0.868 total time=   0.0s\n",
      "[CV 1/5] END ................C=0.1, gamma=1e-06;, score=0.868 total time=   0.0s\n",
      "[CV 2/5] END ................C=0.1, gamma=1e-06;, score=0.868 total time=   0.0s\n",
      "[CV 3/5] END ................C=0.1, gamma=1e-06;, score=0.945 total time=   0.0s\n",
      "[CV 4/5] END ................C=0.1, gamma=1e-06;, score=0.923 total time=   0.0s\n",
      "[CV 5/5] END ................C=0.1, gamma=1e-06;, score=0.879 total time=   0.0s\n",
      "[CV 1/5] END ................C=0.1, gamma=1e-07;, score=0.846 total time=   0.0s\n",
      "[CV 2/5] END ................C=0.1, gamma=1e-07;, score=0.813 total time=   0.0s\n",
      "[CV 3/5] END ................C=0.1, gamma=1e-07;, score=0.879 total time=   0.0s\n",
      "[CV 4/5] END ................C=0.1, gamma=1e-07;, score=0.846 total time=   0.0s\n",
      "[CV 5/5] END ................C=0.1, gamma=1e-07;, score=0.846 total time=   0.0s\n",
      "[CV 1/5] END ......................C=1, gamma=1;, score=0.626 total time=   0.0s\n",
      "[CV 2/5] END ......................C=1, gamma=1;, score=0.626 total time=   0.0s\n",
      "[CV 3/5] END ......................C=1, gamma=1;, score=0.626 total time=   0.0s\n",
      "[CV 4/5] END ......................C=1, gamma=1;, score=0.626 total time=   0.0s\n",
      "[CV 5/5] END ......................C=1, gamma=1;, score=0.626 total time=   0.0s\n",
      "[CV 1/5] END ....................C=1, gamma=0.1;, score=0.626 total time=   0.0s\n",
      "[CV 2/5] END ....................C=1, gamma=0.1;, score=0.626 total time=   0.0s\n",
      "[CV 3/5] END ....................C=1, gamma=0.1;, score=0.626 total time=   0.0s\n",
      "[CV 4/5] END ....................C=1, gamma=0.1;, score=0.626 total time=   0.0s\n",
      "[CV 5/5] END ....................C=1, gamma=0.1;, score=0.626 total time=   0.0s\n",
      "[CV 1/5] END ..................C=1, gamma=0.001;, score=0.879 total time=   0.0s\n",
      "[CV 2/5] END ..................C=1, gamma=0.001;, score=0.890 total time=   0.0s\n",
      "[CV 3/5] END ..................C=1, gamma=0.001;, score=0.923 total time=   0.0s\n",
      "[CV 4/5] END ..................C=1, gamma=0.001;, score=0.956 total time=   0.0s\n",
      "[CV 5/5] END ..................C=1, gamma=0.001;, score=0.945 total time=   0.0s\n",
      "[CV 1/5] END .................C=1, gamma=0.0001;, score=0.879 total time=   0.0s\n",
      "[CV 2/5] END .................C=1, gamma=0.0001;, score=0.945 total time=   0.0s\n",
      "[CV 3/5] END .................C=1, gamma=0.0001;, score=0.967 total time=   0.0s\n",
      "[CV 4/5] END .................C=1, gamma=0.0001;, score=0.956 total time=   0.0s\n",
      "[CV 5/5] END .................C=1, gamma=0.0001;, score=0.923 total time=   0.0s\n",
      "[CV 1/5] END ..................C=1, gamma=1e-05;, score=0.890 total time=   0.0s\n",
      "[CV 2/5] END ..................C=1, gamma=1e-05;, score=0.890 total time=   0.0s\n",
      "[CV 3/5] END ..................C=1, gamma=1e-05;, score=0.956 total time=   0.0s\n",
      "[CV 4/5] END ..................C=1, gamma=1e-05;, score=0.956 total time=   0.0s\n",
      "[CV 5/5] END ..................C=1, gamma=1e-05;, score=0.890 total time=   0.0s\n",
      "[CV 1/5] END ..................C=1, gamma=1e-06;, score=0.890 total time=   0.0s\n",
      "[CV 2/5] END ..................C=1, gamma=1e-06;, score=0.879 total time=   0.0s\n",
      "[CV 3/5] END ..................C=1, gamma=1e-06;, score=0.956 total time=   0.0s\n",
      "[CV 4/5] END ..................C=1, gamma=1e-06;, score=0.934 total time=   0.0s\n",
      "[CV 5/5] END ..................C=1, gamma=1e-06;, score=0.879 total time=   0.0s\n",
      "[CV 1/5] END ..................C=1, gamma=1e-07;, score=0.868 total time=   0.0s\n",
      "[CV 2/5] END ..................C=1, gamma=1e-07;, score=0.868 total time=   0.0s\n",
      "[CV 3/5] END ..................C=1, gamma=1e-07;, score=0.945 total time=   0.0s\n",
      "[CV 4/5] END ..................C=1, gamma=1e-07;, score=0.934 total time=   0.0s\n",
      "[CV 5/5] END ..................C=1, gamma=1e-07;, score=0.879 total time=   0.0s\n",
      "[CV 1/5] END .....................C=10, gamma=1;, score=0.626 total time=   0.0s\n",
      "[CV 2/5] END .....................C=10, gamma=1;, score=0.626 total time=   0.0s\n",
      "[CV 3/5] END .....................C=10, gamma=1;, score=0.626 total time=   0.0s\n",
      "[CV 4/5] END .....................C=10, gamma=1;, score=0.626 total time=   0.0s\n",
      "[CV 5/5] END .....................C=10, gamma=1;, score=0.626 total time=   0.0s\n",
      "[CV 1/5] END ...................C=10, gamma=0.1;, score=0.626 total time=   0.0s\n",
      "[CV 2/5] END ...................C=10, gamma=0.1;, score=0.626 total time=   0.0s\n",
      "[CV 3/5] END ...................C=10, gamma=0.1;, score=0.626 total time=   0.0s\n",
      "[CV 4/5] END ...................C=10, gamma=0.1;, score=0.626 total time=   0.0s\n",
      "[CV 5/5] END ...................C=10, gamma=0.1;, score=0.626 total time=   0.0s\n",
      "[CV 1/5] END .................C=10, gamma=0.001;, score=0.857 total time=   0.0s\n",
      "[CV 2/5] END .................C=10, gamma=0.001;, score=0.890 total time=   0.0s\n",
      "[CV 3/5] END .................C=10, gamma=0.001;, score=0.934 total time=   0.0s\n",
      "[CV 4/5] END .................C=10, gamma=0.001;, score=0.934 total time=   0.0s\n",
      "[CV 5/5] END .................C=10, gamma=0.001;, score=0.934 total time=   0.0s\n",
      "[CV 1/5] END ................C=10, gamma=0.0001;, score=0.901 total time=   0.0s\n",
      "[CV 2/5] END ................C=10, gamma=0.0001;, score=0.945 total time=   0.0s\n",
      "[CV 3/5] END ................C=10, gamma=0.0001;, score=0.956 total time=   0.0s\n",
      "[CV 4/5] END ................C=10, gamma=0.0001;, score=0.967 total time=   0.0s\n",
      "[CV 5/5] END ................C=10, gamma=0.0001;, score=0.934 total time=   0.0s\n",
      "[CV 1/5] END .................C=10, gamma=1e-05;, score=0.879 total time=   0.0s\n",
      "[CV 2/5] END .................C=10, gamma=1e-05;, score=0.923 total time=   0.0s\n",
      "[CV 3/5] END .................C=10, gamma=1e-05;, score=0.945 total time=   0.0s\n",
      "[CV 4/5] END .................C=10, gamma=1e-05;, score=0.967 total time=   0.0s\n",
      "[CV 5/5] END .................C=10, gamma=1e-05;, score=0.912 total time=   0.0s\n",
      "[CV 1/5] END .................C=10, gamma=1e-06;, score=0.890 total time=   0.0s\n",
      "[CV 2/5] END .................C=10, gamma=1e-06;, score=0.901 total time=   0.0s\n",
      "[CV 3/5] END .................C=10, gamma=1e-06;, score=0.945 total time=   0.0s\n",
      "[CV 4/5] END .................C=10, gamma=1e-06;, score=0.967 total time=   0.0s\n",
      "[CV 5/5] END .................C=10, gamma=1e-06;, score=0.890 total time=   0.0s\n",
      "[CV 1/5] END .................C=10, gamma=1e-07;, score=0.890 total time=   0.0s\n",
      "[CV 2/5] END .................C=10, gamma=1e-07;, score=0.890 total time=   0.0s\n",
      "[CV 3/5] END .................C=10, gamma=1e-07;, score=0.967 total time=   0.0s\n",
      "[CV 4/5] END .................C=10, gamma=1e-07;, score=0.945 total time=   0.0s\n",
      "[CV 5/5] END .................C=10, gamma=1e-07;, score=0.879 total time=   0.0s\n",
      "[CV 1/5] END ....................C=100, gamma=1;, score=0.626 total time=   0.0s\n",
      "[CV 2/5] END ....................C=100, gamma=1;, score=0.626 total time=   0.0s\n",
      "[CV 3/5] END ....................C=100, gamma=1;, score=0.626 total time=   0.0s\n",
      "[CV 4/5] END ....................C=100, gamma=1;, score=0.626 total time=   0.0s\n",
      "[CV 5/5] END ....................C=100, gamma=1;, score=0.626 total time=   0.0s\n",
      "[CV 1/5] END ..................C=100, gamma=0.1;, score=0.626 total time=   0.0s\n",
      "[CV 2/5] END ..................C=100, gamma=0.1;, score=0.626 total time=   0.0s\n",
      "[CV 3/5] END ..................C=100, gamma=0.1;, score=0.626 total time=   0.0s\n",
      "[CV 4/5] END ..................C=100, gamma=0.1;, score=0.626 total time=   0.0s\n",
      "[CV 5/5] END ..................C=100, gamma=0.1;, score=0.626 total time=   0.0s\n",
      "[CV 1/5] END ................C=100, gamma=0.001;, score=0.857 total time=   0.0s\n",
      "[CV 2/5] END ................C=100, gamma=0.001;, score=0.890 total time=   0.0s\n",
      "[CV 3/5] END ................C=100, gamma=0.001;, score=0.934 total time=   0.0s\n",
      "[CV 4/5] END ................C=100, gamma=0.001;, score=0.934 total time=   0.0s\n",
      "[CV 5/5] END ................C=100, gamma=0.001;, score=0.934 total time=   0.0s\n",
      "[CV 1/5] END ...............C=100, gamma=0.0001;, score=0.879 total time=   0.0s\n",
      "[CV 2/5] END ...............C=100, gamma=0.0001;, score=0.934 total time=   0.0s\n",
      "[CV 3/5] END ...............C=100, gamma=0.0001;, score=0.967 total time=   0.0s\n",
      "[CV 4/5] END ...............C=100, gamma=0.0001;, score=0.934 total time=   0.0s\n",
      "[CV 5/5] END ...............C=100, gamma=0.0001;, score=0.923 total time=   0.0s\n",
      "[CV 1/5] END ................C=100, gamma=1e-05;, score=0.912 total time=   0.0s\n",
      "[CV 2/5] END ................C=100, gamma=1e-05;, score=0.934 total time=   0.0s\n",
      "[CV 3/5] END ................C=100, gamma=1e-05;, score=0.978 total time=   0.0s\n",
      "[CV 4/5] END ................C=100, gamma=1e-05;, score=0.967 total time=   0.0s\n",
      "[CV 5/5] END ................C=100, gamma=1e-05;, score=0.945 total time=   0.0s\n",
      "[CV 1/5] END ................C=100, gamma=1e-06;, score=0.890 total time=   0.0s\n",
      "[CV 2/5] END ................C=100, gamma=1e-06;, score=0.934 total time=   0.0s\n",
      "[CV 3/5] END ................C=100, gamma=1e-06;, score=0.956 total time=   0.0s\n",
      "[CV 4/5] END ................C=100, gamma=1e-06;, score=0.967 total time=   0.0s\n",
      "[CV 5/5] END ................C=100, gamma=1e-06;, score=0.912 total time=   0.0s\n",
      "[CV 1/5] END ................C=100, gamma=1e-07;, score=0.890 total time=   0.0s\n",
      "[CV 2/5] END ................C=100, gamma=1e-07;, score=0.912 total time=   0.0s\n",
      "[CV 3/5] END ................C=100, gamma=1e-07;, score=0.945 total time=   0.0s\n",
      "[CV 4/5] END ................C=100, gamma=1e-07;, score=0.967 total time=   0.0s\n",
      "[CV 5/5] END ................C=100, gamma=1e-07;, score=0.890 total time=   0.0s\n",
      "[CV 1/5] END ...................C=1000, gamma=1;, score=0.626 total time=   0.0s\n",
      "[CV 2/5] END ...................C=1000, gamma=1;, score=0.626 total time=   0.0s\n",
      "[CV 3/5] END ...................C=1000, gamma=1;, score=0.626 total time=   0.0s\n",
      "[CV 4/5] END ...................C=1000, gamma=1;, score=0.626 total time=   0.0s\n",
      "[CV 5/5] END ...................C=1000, gamma=1;, score=0.626 total time=   0.0s\n",
      "[CV 1/5] END .................C=1000, gamma=0.1;, score=0.626 total time=   0.0s\n",
      "[CV 2/5] END .................C=1000, gamma=0.1;, score=0.626 total time=   0.0s\n",
      "[CV 3/5] END .................C=1000, gamma=0.1;, score=0.626 total time=   0.0s\n",
      "[CV 4/5] END .................C=1000, gamma=0.1;, score=0.626 total time=   0.0s\n",
      "[CV 5/5] END .................C=1000, gamma=0.1;, score=0.626 total time=   0.0s\n",
      "[CV 1/5] END ...............C=1000, gamma=0.001;, score=0.857 total time=   0.0s\n",
      "[CV 2/5] END ...............C=1000, gamma=0.001;, score=0.890 total time=   0.0s\n",
      "[CV 3/5] END ...............C=1000, gamma=0.001;, score=0.934 total time=   0.0s\n",
      "[CV 4/5] END ...............C=1000, gamma=0.001;, score=0.934 total time=   0.0s\n",
      "[CV 5/5] END ...............C=1000, gamma=0.001;, score=0.934 total time=   0.0s\n",
      "[CV 1/5] END ..............C=1000, gamma=0.0001;, score=0.879 total time=   0.0s\n",
      "[CV 2/5] END ..............C=1000, gamma=0.0001;, score=0.901 total time=   0.0s\n",
      "[CV 3/5] END ..............C=1000, gamma=0.0001;, score=0.978 total time=   0.0s\n",
      "[CV 4/5] END ..............C=1000, gamma=0.0001;, score=0.901 total time=   0.0s\n",
      "[CV 5/5] END ..............C=1000, gamma=0.0001;, score=0.945 total time=   0.0s\n",
      "[CV 1/5] END ...............C=1000, gamma=1e-05;, score=0.912 total time=   0.0s\n",
      "[CV 2/5] END ...............C=1000, gamma=1e-05;, score=0.934 total time=   0.0s\n",
      "[CV 3/5] END ...............C=1000, gamma=1e-05;, score=0.989 total time=   0.0s\n",
      "[CV 4/5] END ...............C=1000, gamma=1e-05;, score=0.956 total time=   0.0s\n",
      "[CV 5/5] END ...............C=1000, gamma=1e-05;, score=0.956 total time=   0.0s\n",
      "[CV 1/5] END ...............C=1000, gamma=1e-06;, score=0.912 total time=   0.0s\n",
      "[CV 2/5] END ...............C=1000, gamma=1e-06;, score=0.923 total time=   0.0s\n",
      "[CV 3/5] END ...............C=1000, gamma=1e-06;, score=0.989 total time=   0.0s\n",
      "[CV 4/5] END ...............C=1000, gamma=1e-06;, score=0.956 total time=   0.0s\n",
      "[CV 5/5] END ...............C=1000, gamma=1e-06;, score=0.934 total time=   0.0s\n",
      "[CV 1/5] END ...............C=1000, gamma=1e-07;, score=0.890 total time=   0.0s\n",
      "[CV 2/5] END ...............C=1000, gamma=1e-07;, score=0.923 total time=   0.0s\n",
      "[CV 3/5] END ...............C=1000, gamma=1e-07;, score=0.956 total time=   0.0s\n",
      "[CV 4/5] END ...............C=1000, gamma=1e-07;, score=0.967 total time=   0.0s\n",
      "[CV 5/5] END ...............C=1000, gamma=1e-07;, score=0.923 total time=   0.0s\n"
     ]
    },
    {
     "data": {
      "text/html": [
       "<style>#sk-container-id-2 {color: black;background-color: white;}#sk-container-id-2 pre{padding: 0;}#sk-container-id-2 div.sk-toggleable {background-color: white;}#sk-container-id-2 label.sk-toggleable__label {cursor: pointer;display: block;width: 100%;margin-bottom: 0;padding: 0.3em;box-sizing: border-box;text-align: center;}#sk-container-id-2 label.sk-toggleable__label-arrow:before {content: \"▸\";float: left;margin-right: 0.25em;color: #696969;}#sk-container-id-2 label.sk-toggleable__label-arrow:hover:before {color: black;}#sk-container-id-2 div.sk-estimator:hover label.sk-toggleable__label-arrow:before {color: black;}#sk-container-id-2 div.sk-toggleable__content {max-height: 0;max-width: 0;overflow: hidden;text-align: left;background-color: #f0f8ff;}#sk-container-id-2 div.sk-toggleable__content pre {margin: 0.2em;color: black;border-radius: 0.25em;background-color: #f0f8ff;}#sk-container-id-2 input.sk-toggleable__control:checked~div.sk-toggleable__content {max-height: 200px;max-width: 100%;overflow: auto;}#sk-container-id-2 input.sk-toggleable__control:checked~label.sk-toggleable__label-arrow:before {content: \"▾\";}#sk-container-id-2 div.sk-estimator input.sk-toggleable__control:checked~label.sk-toggleable__label {background-color: #d4ebff;}#sk-container-id-2 div.sk-label input.sk-toggleable__control:checked~label.sk-toggleable__label {background-color: #d4ebff;}#sk-container-id-2 input.sk-hidden--visually {border: 0;clip: rect(1px 1px 1px 1px);clip: rect(1px, 1px, 1px, 1px);height: 1px;margin: -1px;overflow: hidden;padding: 0;position: absolute;width: 1px;}#sk-container-id-2 div.sk-estimator {font-family: monospace;background-color: #f0f8ff;border: 1px dotted black;border-radius: 0.25em;box-sizing: border-box;margin-bottom: 0.5em;}#sk-container-id-2 div.sk-estimator:hover {background-color: #d4ebff;}#sk-container-id-2 div.sk-parallel-item::after {content: \"\";width: 100%;border-bottom: 1px solid gray;flex-grow: 1;}#sk-container-id-2 div.sk-label:hover label.sk-toggleable__label {background-color: #d4ebff;}#sk-container-id-2 div.sk-serial::before {content: \"\";position: absolute;border-left: 1px solid gray;box-sizing: border-box;top: 0;bottom: 0;left: 50%;z-index: 0;}#sk-container-id-2 div.sk-serial {display: flex;flex-direction: column;align-items: center;background-color: white;padding-right: 0.2em;padding-left: 0.2em;position: relative;}#sk-container-id-2 div.sk-item {position: relative;z-index: 1;}#sk-container-id-2 div.sk-parallel {display: flex;align-items: stretch;justify-content: center;background-color: white;position: relative;}#sk-container-id-2 div.sk-item::before, #sk-container-id-2 div.sk-parallel-item::before {content: \"\";position: absolute;border-left: 1px solid gray;box-sizing: border-box;top: 0;bottom: 0;left: 50%;z-index: -1;}#sk-container-id-2 div.sk-parallel-item {display: flex;flex-direction: column;z-index: 1;position: relative;background-color: white;}#sk-container-id-2 div.sk-parallel-item:first-child::after {align-self: flex-end;width: 50%;}#sk-container-id-2 div.sk-parallel-item:last-child::after {align-self: flex-start;width: 50%;}#sk-container-id-2 div.sk-parallel-item:only-child::after {width: 0;}#sk-container-id-2 div.sk-dashed-wrapped {border: 1px dashed gray;margin: 0 0.4em 0.5em 0.4em;box-sizing: border-box;padding-bottom: 0.4em;background-color: white;}#sk-container-id-2 div.sk-label label {font-family: monospace;font-weight: bold;display: inline-block;line-height: 1.2em;}#sk-container-id-2 div.sk-label-container {text-align: center;}#sk-container-id-2 div.sk-container {/* jupyter's `normalize.less` sets `[hidden] { display: none; }` but bootstrap.min.css set `[hidden] { display: none !important; }` so we also need the `!important` here to be able to override the default hidden behavior on the sphinx rendered scikit-learn.org. See: https://github.com/scikit-learn/scikit-learn/issues/21755 */display: inline-block !important;position: relative;}#sk-container-id-2 div.sk-text-repr-fallback {display: none;}</style><div id=\"sk-container-id-2\" class=\"sk-top-container\"><div class=\"sk-text-repr-fallback\"><pre>GridSearchCV(estimator=SVC(),\n",
       "             param_grid={&#x27;C&#x27;: [0.001, 0.01, 0.1, 1, 10, 100, 1000],\n",
       "                         &#x27;gamma&#x27;: [1, 0.1, 0.001, 0.0001, 1e-05, 1e-06, 1e-07]},\n",
       "             verbose=3)</pre><b>In a Jupyter environment, please rerun this cell to show the HTML representation or trust the notebook. <br />On GitHub, the HTML representation is unable to render, please try loading this page with nbviewer.org.</b></div><div class=\"sk-container\" hidden><div class=\"sk-item sk-dashed-wrapped\"><div class=\"sk-label-container\"><div class=\"sk-label sk-toggleable\"><input class=\"sk-toggleable__control sk-hidden--visually\" id=\"sk-estimator-id-2\" type=\"checkbox\" ><label for=\"sk-estimator-id-2\" class=\"sk-toggleable__label sk-toggleable__label-arrow\">GridSearchCV</label><div class=\"sk-toggleable__content\"><pre>GridSearchCV(estimator=SVC(),\n",
       "             param_grid={&#x27;C&#x27;: [0.001, 0.01, 0.1, 1, 10, 100, 1000],\n",
       "                         &#x27;gamma&#x27;: [1, 0.1, 0.001, 0.0001, 1e-05, 1e-06, 1e-07]},\n",
       "             verbose=3)</pre></div></div></div><div class=\"sk-parallel\"><div class=\"sk-parallel-item\"><div class=\"sk-item\"><div class=\"sk-label-container\"><div class=\"sk-label sk-toggleable\"><input class=\"sk-toggleable__control sk-hidden--visually\" id=\"sk-estimator-id-3\" type=\"checkbox\" ><label for=\"sk-estimator-id-3\" class=\"sk-toggleable__label sk-toggleable__label-arrow\">estimator: SVC</label><div class=\"sk-toggleable__content\"><pre>SVC()</pre></div></div></div><div class=\"sk-serial\"><div class=\"sk-item\"><div class=\"sk-estimator sk-toggleable\"><input class=\"sk-toggleable__control sk-hidden--visually\" id=\"sk-estimator-id-4\" type=\"checkbox\" ><label for=\"sk-estimator-id-4\" class=\"sk-toggleable__label sk-toggleable__label-arrow\">SVC</label><div class=\"sk-toggleable__content\"><pre>SVC()</pre></div></div></div></div></div></div></div></div></div></div>"
      ],
      "text/plain": [
       "GridSearchCV(estimator=SVC(),\n",
       "             param_grid={'C': [0.001, 0.01, 0.1, 1, 10, 100, 1000],\n",
       "                         'gamma': [1, 0.1, 0.001, 0.0001, 1e-05, 1e-06, 1e-07]},\n",
       "             verbose=3)"
      ]
     },
     "execution_count": 20,
     "metadata": {},
     "output_type": "execute_result"
    }
   ],
   "source": [
    "grid_search.fit(X_train,Y_train)"
   ]
  },
  {
   "cell_type": "code",
   "execution_count": 21,
   "id": "7a7bea9e",
   "metadata": {},
   "outputs": [
    {
     "data": {
      "text/plain": [
       "{'C': 1000, 'gamma': 1e-05}"
      ]
     },
     "execution_count": 21,
     "metadata": {},
     "output_type": "execute_result"
    }
   ],
   "source": [
    "grid_search.best_params_"
   ]
  },
  {
   "cell_type": "code",
   "execution_count": 22,
   "id": "19c4fd22",
   "metadata": {},
   "outputs": [
    {
     "data": {
      "text/plain": [
       "array([1, 1, 1, 0, 1, 1, 1, 0, 1, 1, 0, 1, 1, 1, 0, 1, 1, 1, 0, 1, 1, 1,\n",
       "       1, 1, 0, 1, 0, 1, 0, 1, 1, 0, 1, 0, 1, 1, 0, 1, 0, 0, 0, 1, 1, 1,\n",
       "       1, 1, 0, 1, 0, 1, 0, 0, 1, 0, 1, 1, 0, 0, 1, 1, 0, 1, 1, 1, 0, 1,\n",
       "       1, 0, 0, 1, 0, 1, 1, 1, 0, 0, 1, 1, 0, 1, 1, 1, 1, 1, 1, 1, 0, 1,\n",
       "       0, 1, 1, 0, 0, 1, 1, 1, 1, 1, 0, 0, 0, 1, 1, 1, 1, 1, 1, 1, 1, 1,\n",
       "       1, 1, 1, 0])"
      ]
     },
     "execution_count": 22,
     "metadata": {},
     "output_type": "execute_result"
    }
   ],
   "source": [
    "grid_search.predict(X_test)"
   ]
  },
  {
   "cell_type": "code",
   "execution_count": 23,
   "id": "9f262140",
   "metadata": {},
   "outputs": [],
   "source": [
    "predictions = grid_search.predict(X_test)"
   ]
  },
  {
   "cell_type": "code",
   "execution_count": 24,
   "id": "901c06ad",
   "metadata": {},
   "outputs": [
    {
     "name": "stdout",
     "output_type": "stream",
     "text": [
      "[[36  1]\n",
      " [ 6 71]]\n"
     ]
    }
   ],
   "source": [
    "print(confusion_matrix(predictions,Y_test))"
   ]
  },
  {
   "cell_type": "code",
   "execution_count": 25,
   "id": "88250dc7",
   "metadata": {},
   "outputs": [
    {
     "data": {
      "text/plain": [
       "<Axes: >"
      ]
     },
     "execution_count": 25,
     "metadata": {},
     "output_type": "execute_result"
    },
    {
     "data": {
      "image/png": "[encoded data removed]",
      "text/plain": [
       "<Figure size 640x480 with 2 Axes>"
      ]
     },
     "metadata": {},
     "output_type": "display_data"
    }
   ],
   "source": [
    "sns.heatmap(confusion_matrix(predictions,Y_test),annot=True)"
   ]
  },
  {
   "cell_type": "code",
   "execution_count": null,
   "id": "e510fb2f",
   "metadata": {},
   "outputs": [],
   "source": []
  }
 ],
 "metadata": {
  "kernelspec": {
   "display_name": "Python 3 (ipykernel)",
   "language": "python",
   "name": "python3"
  },
  "language_info": {
   "codemirror_mode": {
    "name": "ipython",
    "version": 3
   },
   "file_extension": ".py",
   "mimetype": "text/x-python",
   "name": "python",
   "nbconvert_exporter": "python",
   "pygments_lexer": "ipython3",
   "version": "3.10.9"
  }
 },
 "nbformat": 4,
 "nbformat_minor": 5
}
