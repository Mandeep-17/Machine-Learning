{
 "cells": [
  {
   "cell_type": "code",
   "execution_count": 1,
   "id": "e5f49ec3",
   "metadata": {},
   "outputs": [],
   "source": [
    "import joblib as jb\n",
    "import numpy as np\n",
    "import pandas as pd\n",
    "from nltk.stem.porter import PorterStemmer\n",
    "import pickle"
   ]
  },
  {
   "cell_type": "code",
   "execution_count": 2,
   "id": "89bf735a",
   "metadata": {},
   "outputs": [],
   "source": [
    "model_nb = pickle.load(open('Flipkart_review_model.sav', 'rb'))"
   ]
  },
  {
   "cell_type": "code",
   "execution_count": 3,
   "id": "d99ba777",
   "metadata": {},
   "outputs": [],
   "source": [
    "count_vector = jb.load('Vector_matrix.joblib')"
   ]
  },
  {
   "cell_type": "code",
   "execution_count": 4,
   "id": "02872285",
   "metadata": {
    "scrolled": false
   },
   "outputs": [
    {
     "name": "stdout",
     "output_type": "stream",
     "text": [
      "Enter Review Rating : 5\n",
      "Enter your review: super!\n",
      "Enter review summary: excellent\n"
     ]
    }
   ],
   "source": [
    "rate = input('Enter Review Rating : ')\n",
    "review = input('Enter your review: ')\n",
    "summary = input('Enter review summary: ')\n",
    "\n",
    "tag = list(rate) + list(review.replace(' ','')) + summary.split()"
   ]
  },
  {
   "cell_type": "code",
   "execution_count": 5,
   "id": "e43acd08",
   "metadata": {},
   "outputs": [],
   "source": [
    "harry_potter = PorterStemmer()\n",
    "def stemming_words(items):\n",
    "  temp_lst = []\n",
    "  for word in items:\n",
    "    temp_lst.append(harry_potter.stem(word))\n",
    "  temp_lst = list(set(temp_lst))\n",
    "  return temp_lst"
   ]
  },
  {
   "cell_type": "code",
   "execution_count": 6,
   "id": "b48ffa47",
   "metadata": {},
   "outputs": [],
   "source": [
    "tag = stemming_words(tag)"
   ]
  },
  {
   "cell_type": "code",
   "execution_count": 7,
   "id": "b34c2ce7",
   "metadata": {
    "scrolled": false
   },
   "outputs": [
    {
     "data": {
      "text/plain": [
       "'p s r 5 ! u e excel'"
      ]
     },
     "execution_count": 7,
     "metadata": {},
     "output_type": "execute_result"
    }
   ],
   "source": [
    "tag = ' '.join(tag)\n",
    "tag"
   ]
  },
  {
   "cell_type": "code",
   "execution_count": 8,
   "id": "556590a0",
   "metadata": {},
   "outputs": [],
   "source": [
    "tag = pd.Series(tag)"
   ]
  },
  {
   "cell_type": "code",
   "execution_count": 9,
   "id": "6b889946",
   "metadata": {},
   "outputs": [
    {
     "data": {
      "text/plain": [
       "0    p s r 5 ! u e excel\n",
       "dtype: object"
      ]
     },
     "execution_count": 9,
     "metadata": {},
     "output_type": "execute_result"
    }
   ],
   "source": [
    "tag"
   ]
  },
  {
   "cell_type": "code",
   "execution_count": 10,
   "id": "70370e39",
   "metadata": {},
   "outputs": [],
   "source": [
    "matrix_tag = count_vector.transform(tag).toarray()"
   ]
  },
  {
   "cell_type": "code",
   "execution_count": 11,
   "id": "d5afd53b",
   "metadata": {},
   "outputs": [
    {
     "data": {
      "text/plain": [
       "(1, 500)"
      ]
     },
     "execution_count": 11,
     "metadata": {},
     "output_type": "execute_result"
    }
   ],
   "source": [
    "matrix_tag.shape"
   ]
  },
  {
   "cell_type": "code",
   "execution_count": 12,
   "id": "fb17ebe8",
   "metadata": {
    "scrolled": true
   },
   "outputs": [],
   "source": [
    "prediction = model_nb.predict(matrix_tag)"
   ]
  },
  {
   "cell_type": "code",
   "execution_count": 13,
   "id": "fefa1ee0",
   "metadata": {},
   "outputs": [
    {
     "name": "stdout",
     "output_type": "stream",
     "text": [
      "This review is  positive\n"
     ]
    }
   ],
   "source": [
    "print('This review is ',prediction[0])"
   ]
  }
 ],
 "metadata": {
  "kernelspec": {
   "display_name": "Python 3 (ipykernel)",
   "language": "python",
   "name": "python3"
  },
  "language_info": {
   "codemirror_mode": {
    "name": "ipython",
    "version": 3
   },
   "file_extension": ".py",
   "mimetype": "text/x-python",
   "name": "python",
   "nbconvert_exporter": "python",
   "pygments_lexer": "ipython3",
   "version": "3.10.9"
  }
 },
 "nbformat": 4,
 "nbformat_minor": 5
}
